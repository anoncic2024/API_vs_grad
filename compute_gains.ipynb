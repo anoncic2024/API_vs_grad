{
 "cells": [
  {
   "cell_type": "code",
   "execution_count": 1,
   "id": "a6f89bac-ce61-41cb-85c9-f0f9e7258892",
   "metadata": {
    "tags": []
   },
   "outputs": [
    {
     "data": {
      "text/plain": [
       "(0.016666666666666666, 0.3853710466754987)"
      ]
     },
     "execution_count": 1,
     "metadata": {},
     "output_type": "execute_result"
    }
   ],
   "source": [
    "from pathlib import Path\n",
    "import re\n",
    "\n",
    "accuracy_gains = []\n",
    "primes = []\n",
    "for nn in range(1,61):\n",
    "    file = \"./{}.txt\".format(nn)\n",
    "    data = Path(file).read_text()\n",
    "    splitted = re.split(\"\\n\", data)\n",
    "    i=0\n",
    "    while(not re.findall(r\"\\(\", splitted[i])):\n",
    "        i=i+1\n",
    "    max_len = int(splitted[i-1])\n",
    "    a = int(splitted[i-2])\n",
    "    prime = int(splitted[i-3])\n",
    "    \n",
    "    b=bin(prime)[2:]\n",
    "    bit_needed = int(b[1])\n",
    "    p_r = prime-2**(max_len-1)-bit_needed*2**(max_len-2)\n",
    "    ratio = (2**(max_len-2)*bit_needed+(1-2*bit_needed)*p_r)/prime\n",
    "    ratio = max(0.5+ratio/2,0.5-ratio/2) \n",
    "\n",
    "    lst = re.findall(r\"val_acc: (0\\.\\d+)\\n\", data)\n",
    "    acc = float(lst[-1])\n",
    "    accuracy_gains.append(acc-ratio)\n",
    "\n",
    "succs = [h>=0.02 for h in accuracy_gains]\n",
    "gains = [accuracy_gains[i]*succs[i] for i in range(60)]\n",
    "sum(succs)/60, sum(gains)/sum(succs)"
   ]
  }
 ],
 "metadata": {
  "kernelspec": {
   "display_name": "Python 3 (ipykernel)",
   "language": "python",
   "name": "python3"
  },
  "language_info": {
   "codemirror_mode": {
    "name": "ipython",
    "version": 3
   },
   "file_extension": ".py",
   "mimetype": "text/x-python",
   "name": "python",
   "nbconvert_exporter": "python",
   "pygments_lexer": "ipython3",
   "version": "3.11.3"
  }
 },
 "nbformat": 4,
 "nbformat_minor": 5
}
